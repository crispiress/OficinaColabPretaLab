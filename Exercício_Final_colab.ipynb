{
  "nbformat": 4,
  "nbformat_minor": 0,
  "metadata": {
    "colab": {
      "provenance": [],
      "include_colab_link": true
    },
    "kernelspec": {
      "name": "python3",
      "display_name": "Python 3"
    },
    "language_info": {
      "name": "python"
    }
  },
  "cells": [
    {
      "cell_type": "markdown",
      "metadata": {
        "id": "view-in-github",
        "colab_type": "text"
      },
      "source": [
        "<a href=\"https://colab.research.google.com/github/crispiress/OficinaColabPretaLab/blob/main/Exerc%C3%ADcio_Final_colab.ipynb\" target=\"_parent\"><img src=\"https://colab.research.google.com/assets/colab-badge.svg\" alt=\"Open In Colab\"/></a>"
      ]
    },
    {
      "cell_type": "markdown",
      "source": [
        "# Contagem de Medalhas\n",
        "\n",
        "Crie um programa que receba o número de medalhas de ouro, prata e bronze de um país nas Olimpíadas e calcule o total de medalhas.\n",
        "Quando escrever 'sair', o programa deverá encerrar e mostrar na tela o ranking de medalhas no formato:"
      ],
      "metadata": {
        "id": "RQN1e5FZY6SZ"
      }
    },
    {
      "cell_type": "code",
      "source": [
        "#Ranking de medalhas:\n",
        "#Brasil: 7 medalhas\n",
        "#França: 6 medalhas\n",
        "#Argentina: 3 medalhas"
      ],
      "metadata": {
        "id": "gCq_KLHzZSzb"
      },
      "execution_count": null,
      "outputs": []
    },
    {
      "cell_type": "code",
      "execution_count": 8,
      "metadata": {
        "id": "AJJhjxiPTd5s",
        "outputId": "92e44968-14be-448c-d251-46366759a182",
        "colab": {
          "base_uri": "https://localhost:8080/"
        }
      },
      "outputs": [
        {
          "output_type": "stream",
          "name": "stdout",
          "text": [
            "\n",
            "#Ranking de medalhas:#\n",
            "Brasil: 7 medalhas\n",
            "França: 6 medalhas\n",
            "Argentina: 3 medalhas\n"
          ]
        }
      ],
      "source": [
        "# Resposta aqui\n",
        "def main():\n",
        "    ranking = {\n",
        "        \"Brasil\": (5, 2, 0),  # (ouro, prata, bronze)\n",
        "        \"França\": (3, 2, 1),\n",
        "        \"Argentina\": (1, 1, 1),\n",
        "    }\n",
        "\n",
        "    print(\"\\n#Ranking de medalhas:#\")\n",
        "    for pais, medalhas in ranking.items():\n",
        "        total_medalhas = sum(medalhas)\n",
        "        print(f\"{pais}: {total_medalhas} medalhas\")\n",
        "\n",
        "if __name__ == \"__main__\":\n",
        "    main()\n",
        "\n"
      ]
    }
  ]
}